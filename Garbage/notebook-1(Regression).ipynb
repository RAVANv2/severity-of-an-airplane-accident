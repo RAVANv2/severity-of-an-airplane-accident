{
 "cells": [
  {
   "cell_type": "code",
   "execution_count": 1,
   "metadata": {},
   "outputs": [],
   "source": [
    "#Best Library for Regression\n",
    "\n",
    "import numpy as np\n",
    "import pandas as pd\n",
    "import matplotlib.pyplot as plt\n",
    "import seaborn as sns\n",
    "import gc\n",
    "import os\n",
    "\n",
    "%matplotlib inline\n",
    "\n",
    "plt.rcParams['figure.figsize'] = [15, 8]\n",
    "plt.style.use(\"fivethirtyeight\")\n",
    "\n",
    "import warnings\n",
    "warnings.simplefilter('ignore')\n",
    "\n",
    "pd.options.display.max_rows = 500\n",
    "pd.options.display.max_columns = 500\n",
    "\n",
    "from sklearn.preprocessing import LabelEncoder\n",
    "from sklearn.model_selection import cross_val_score, train_test_split, TimeSeriesSplit\n",
    "from sklearn.metrics import make_scorer, mean_squared_error\n",
    "\n",
    "# Regression\n",
    "from sklearn.linear_model import LinearRegression, Ridge, ElasticNet, Lasso\n",
    "from sklearn.naive_bayes import GaussianNB\n",
    "from sklearn.neighbors import KNeighborsRegressor\n",
    "from sklearn.svm import SVR\n",
    "from sklearn.tree import DecisionTreeRegressor, ExtraTreeRegressor\n",
    "from sklearn.ensemble import AdaBoostRegressor, RandomForestRegressor, BaggingRegressor, ExtraTreesRegressor, GradientBoostingRegressor, RandomForestRegressor, VotingRegressor\n",
    "\n",
    "import xgboost as xgb\n",
    "import lightgbm as lgb\n",
    "import catboost as cat"
   ]
  },
  {
   "cell_type": "code",
   "execution_count": 2,
   "metadata": {},
   "outputs": [],
   "source": [
    "def metric(y,y0):\n",
    "    assert len(y)==len(y0)\n",
    "    return 100-np.sqrt(np.mean(np.power(np.log1p(y)-np.log1p(y0),2)))\n",
    "\n",
    "def metric_lgb(y_pred,data):\n",
    "    y_true = data.get_label()\n",
    "    result = metric(y_true,y_pred)\n",
    "    \n",
    "    return '100-rmse', result,True"
   ]
  },
  {
   "cell_type": "markdown",
   "metadata": {},
   "source": [
    "## Importing Data"
   ]
  },
  {
   "cell_type": "code",
   "execution_count": 3,
   "metadata": {},
   "outputs": [
    {
     "name": "stdout",
     "output_type": "stream",
     "text": [
      "Train Shape : (10000, 12)\n",
      "Test Shape: (2500, 11)\n",
      "Sub Shape: (10, 2)\n"
     ]
    }
   ],
   "source": [
    "train_1 = pd.read_csv(\"train.csv\")\n",
    "test_1 = pd.read_csv(\"test.csv\")\n",
    "sub = pd.read_csv(\"sample_submission.csv\")\n",
    "\n",
    "print(\"Train Shape : {}\\nTest Shape: {}\\nSub Shape: {}\".format(train_1.shape, test_1.shape, sub.shape))"
   ]
  },
  {
   "cell_type": "code",
   "execution_count": 4,
   "metadata": {},
   "outputs": [],
   "source": [
    "train = train_1.copy()\n",
    "test = test_1.copy()"
   ]
  },
  {
   "cell_type": "code",
   "execution_count": 5,
   "metadata": {},
   "outputs": [
    {
     "data": {
      "text/html": [
       "<div>\n",
       "<style scoped>\n",
       "    .dataframe tbody tr th:only-of-type {\n",
       "        vertical-align: middle;\n",
       "    }\n",
       "\n",
       "    .dataframe tbody tr th {\n",
       "        vertical-align: top;\n",
       "    }\n",
       "\n",
       "    .dataframe thead th {\n",
       "        text-align: right;\n",
       "    }\n",
       "</style>\n",
       "<table border=\"1\" class=\"dataframe\">\n",
       "  <thead>\n",
       "    <tr style=\"text-align: right;\">\n",
       "      <th></th>\n",
       "      <th>Severity</th>\n",
       "      <th>Safety_Score</th>\n",
       "      <th>Days_Since_Inspection</th>\n",
       "      <th>Total_Safety_Complaints</th>\n",
       "      <th>Control_Metric</th>\n",
       "      <th>Turbulence_In_gforces</th>\n",
       "      <th>Cabin_Temperature</th>\n",
       "      <th>Accident_Type_Code</th>\n",
       "      <th>Max_Elevation</th>\n",
       "      <th>Violations</th>\n",
       "      <th>Adverse_Weather_Metric</th>\n",
       "      <th>Accident_ID</th>\n",
       "    </tr>\n",
       "  </thead>\n",
       "  <tbody>\n",
       "    <tr>\n",
       "      <td>0</td>\n",
       "      <td>Minor_Damage_And_Injuries</td>\n",
       "      <td>49.223744</td>\n",
       "      <td>14</td>\n",
       "      <td>22</td>\n",
       "      <td>71.285324</td>\n",
       "      <td>0.272118</td>\n",
       "      <td>78.04</td>\n",
       "      <td>2</td>\n",
       "      <td>31335.476824</td>\n",
       "      <td>3</td>\n",
       "      <td>0.424352</td>\n",
       "      <td>7570</td>\n",
       "    </tr>\n",
       "    <tr>\n",
       "      <td>1</td>\n",
       "      <td>Minor_Damage_And_Injuries</td>\n",
       "      <td>62.465753</td>\n",
       "      <td>10</td>\n",
       "      <td>27</td>\n",
       "      <td>72.288058</td>\n",
       "      <td>0.423939</td>\n",
       "      <td>84.54</td>\n",
       "      <td>2</td>\n",
       "      <td>26024.711057</td>\n",
       "      <td>2</td>\n",
       "      <td>0.352350</td>\n",
       "      <td>12128</td>\n",
       "    </tr>\n",
       "    <tr>\n",
       "      <td>2</td>\n",
       "      <td>Significant_Damage_And_Fatalities</td>\n",
       "      <td>63.059361</td>\n",
       "      <td>13</td>\n",
       "      <td>16</td>\n",
       "      <td>66.362808</td>\n",
       "      <td>0.322604</td>\n",
       "      <td>78.86</td>\n",
       "      <td>7</td>\n",
       "      <td>39269.053927</td>\n",
       "      <td>3</td>\n",
       "      <td>0.003364</td>\n",
       "      <td>2181</td>\n",
       "    </tr>\n",
       "    <tr>\n",
       "      <td>3</td>\n",
       "      <td>Significant_Damage_And_Serious_Injuries</td>\n",
       "      <td>48.082192</td>\n",
       "      <td>11</td>\n",
       "      <td>9</td>\n",
       "      <td>74.703737</td>\n",
       "      <td>0.337029</td>\n",
       "      <td>81.79</td>\n",
       "      <td>3</td>\n",
       "      <td>42771.499200</td>\n",
       "      <td>1</td>\n",
       "      <td>0.211728</td>\n",
       "      <td>5946</td>\n",
       "    </tr>\n",
       "    <tr>\n",
       "      <td>4</td>\n",
       "      <td>Significant_Damage_And_Fatalities</td>\n",
       "      <td>26.484018</td>\n",
       "      <td>13</td>\n",
       "      <td>25</td>\n",
       "      <td>47.948952</td>\n",
       "      <td>0.541140</td>\n",
       "      <td>77.16</td>\n",
       "      <td>3</td>\n",
       "      <td>35509.228515</td>\n",
       "      <td>2</td>\n",
       "      <td>0.176883</td>\n",
       "      <td>9054</td>\n",
       "    </tr>\n",
       "  </tbody>\n",
       "</table>\n",
       "</div>"
      ],
      "text/plain": [
       "                                  Severity  Safety_Score  \\\n",
       "0                Minor_Damage_And_Injuries     49.223744   \n",
       "1                Minor_Damage_And_Injuries     62.465753   \n",
       "2        Significant_Damage_And_Fatalities     63.059361   \n",
       "3  Significant_Damage_And_Serious_Injuries     48.082192   \n",
       "4        Significant_Damage_And_Fatalities     26.484018   \n",
       "\n",
       "   Days_Since_Inspection  Total_Safety_Complaints  Control_Metric  \\\n",
       "0                     14                       22       71.285324   \n",
       "1                     10                       27       72.288058   \n",
       "2                     13                       16       66.362808   \n",
       "3                     11                        9       74.703737   \n",
       "4                     13                       25       47.948952   \n",
       "\n",
       "   Turbulence_In_gforces  Cabin_Temperature  Accident_Type_Code  \\\n",
       "0               0.272118              78.04                   2   \n",
       "1               0.423939              84.54                   2   \n",
       "2               0.322604              78.86                   7   \n",
       "3               0.337029              81.79                   3   \n",
       "4               0.541140              77.16                   3   \n",
       "\n",
       "   Max_Elevation  Violations  Adverse_Weather_Metric  Accident_ID  \n",
       "0   31335.476824           3                0.424352         7570  \n",
       "1   26024.711057           2                0.352350        12128  \n",
       "2   39269.053927           3                0.003364         2181  \n",
       "3   42771.499200           1                0.211728         5946  \n",
       "4   35509.228515           2                0.176883         9054  "
      ]
     },
     "execution_count": 5,
     "metadata": {},
     "output_type": "execute_result"
    }
   ],
   "source": [
    "train.head()"
   ]
  },
  {
   "cell_type": "code",
   "execution_count": 6,
   "metadata": {},
   "outputs": [
    {
     "name": "stdout",
     "output_type": "stream",
     "text": [
      "<class 'pandas.core.frame.DataFrame'>\n",
      "RangeIndex: 10000 entries, 0 to 9999\n",
      "Data columns (total 12 columns):\n",
      "Severity                   10000 non-null object\n",
      "Safety_Score               10000 non-null float64\n",
      "Days_Since_Inspection      10000 non-null int64\n",
      "Total_Safety_Complaints    10000 non-null int64\n",
      "Control_Metric             10000 non-null float64\n",
      "Turbulence_In_gforces      10000 non-null float64\n",
      "Cabin_Temperature          10000 non-null float64\n",
      "Accident_Type_Code         10000 non-null int64\n",
      "Max_Elevation              10000 non-null float64\n",
      "Violations                 10000 non-null int64\n",
      "Adverse_Weather_Metric     10000 non-null float64\n",
      "Accident_ID                10000 non-null int64\n",
      "dtypes: float64(6), int64(5), object(1)\n",
      "memory usage: 937.6+ KB\n"
     ]
    }
   ],
   "source": [
    "train.info()"
   ]
  },
  {
   "cell_type": "code",
   "execution_count": 7,
   "metadata": {},
   "outputs": [
    {
     "data": {
      "text/html": [
       "<div>\n",
       "<style scoped>\n",
       "    .dataframe tbody tr th:only-of-type {\n",
       "        vertical-align: middle;\n",
       "    }\n",
       "\n",
       "    .dataframe tbody tr th {\n",
       "        vertical-align: top;\n",
       "    }\n",
       "\n",
       "    .dataframe thead th {\n",
       "        text-align: right;\n",
       "    }\n",
       "</style>\n",
       "<table border=\"1\" class=\"dataframe\">\n",
       "  <thead>\n",
       "    <tr style=\"text-align: right;\">\n",
       "      <th></th>\n",
       "      <th>Safety_Score</th>\n",
       "      <th>Days_Since_Inspection</th>\n",
       "      <th>Total_Safety_Complaints</th>\n",
       "      <th>Control_Metric</th>\n",
       "      <th>Turbulence_In_gforces</th>\n",
       "      <th>Cabin_Temperature</th>\n",
       "      <th>Accident_Type_Code</th>\n",
       "      <th>Max_Elevation</th>\n",
       "      <th>Violations</th>\n",
       "      <th>Adverse_Weather_Metric</th>\n",
       "      <th>Accident_ID</th>\n",
       "    </tr>\n",
       "  </thead>\n",
       "  <tbody>\n",
       "    <tr>\n",
       "      <td>count</td>\n",
       "      <td>10000.000000</td>\n",
       "      <td>10000.000000</td>\n",
       "      <td>10000.000000</td>\n",
       "      <td>10000.000000</td>\n",
       "      <td>10000.000000</td>\n",
       "      <td>10000.000000</td>\n",
       "      <td>10000.000000</td>\n",
       "      <td>10000.000000</td>\n",
       "      <td>10000.00000</td>\n",
       "      <td>10000.000000</td>\n",
       "      <td>10000.000000</td>\n",
       "    </tr>\n",
       "    <tr>\n",
       "      <td>mean</td>\n",
       "      <td>41.876406</td>\n",
       "      <td>12.931100</td>\n",
       "      <td>6.564300</td>\n",
       "      <td>65.145324</td>\n",
       "      <td>0.381495</td>\n",
       "      <td>79.969331</td>\n",
       "      <td>3.814900</td>\n",
       "      <td>32001.803282</td>\n",
       "      <td>2.01220</td>\n",
       "      <td>0.255635</td>\n",
       "      <td>6266.554200</td>\n",
       "    </tr>\n",
       "    <tr>\n",
       "      <td>std</td>\n",
       "      <td>16.138072</td>\n",
       "      <td>3.539803</td>\n",
       "      <td>6.971982</td>\n",
       "      <td>11.882934</td>\n",
       "      <td>0.121301</td>\n",
       "      <td>2.759739</td>\n",
       "      <td>1.902577</td>\n",
       "      <td>9431.995196</td>\n",
       "      <td>1.03998</td>\n",
       "      <td>0.381128</td>\n",
       "      <td>3610.170288</td>\n",
       "    </tr>\n",
       "    <tr>\n",
       "      <td>min</td>\n",
       "      <td>0.000000</td>\n",
       "      <td>1.000000</td>\n",
       "      <td>0.000000</td>\n",
       "      <td>0.000000</td>\n",
       "      <td>0.134000</td>\n",
       "      <td>74.740000</td>\n",
       "      <td>1.000000</td>\n",
       "      <td>831.695553</td>\n",
       "      <td>0.00000</td>\n",
       "      <td>0.000316</td>\n",
       "      <td>2.000000</td>\n",
       "    </tr>\n",
       "    <tr>\n",
       "      <td>25%</td>\n",
       "      <td>30.593607</td>\n",
       "      <td>11.000000</td>\n",
       "      <td>2.000000</td>\n",
       "      <td>56.927985</td>\n",
       "      <td>0.293665</td>\n",
       "      <td>77.960000</td>\n",
       "      <td>2.000000</td>\n",
       "      <td>25757.636908</td>\n",
       "      <td>1.00000</td>\n",
       "      <td>0.012063</td>\n",
       "      <td>3139.750000</td>\n",
       "    </tr>\n",
       "    <tr>\n",
       "      <td>50%</td>\n",
       "      <td>41.278539</td>\n",
       "      <td>13.000000</td>\n",
       "      <td>4.000000</td>\n",
       "      <td>65.587967</td>\n",
       "      <td>0.365879</td>\n",
       "      <td>79.540000</td>\n",
       "      <td>4.000000</td>\n",
       "      <td>32060.336419</td>\n",
       "      <td>2.00000</td>\n",
       "      <td>0.074467</td>\n",
       "      <td>6280.500000</td>\n",
       "    </tr>\n",
       "    <tr>\n",
       "      <td>75%</td>\n",
       "      <td>52.511416</td>\n",
       "      <td>15.000000</td>\n",
       "      <td>9.000000</td>\n",
       "      <td>73.336372</td>\n",
       "      <td>0.451346</td>\n",
       "      <td>81.560000</td>\n",
       "      <td>5.000000</td>\n",
       "      <td>38380.641513</td>\n",
       "      <td>3.00000</td>\n",
       "      <td>0.354059</td>\n",
       "      <td>9391.500000</td>\n",
       "    </tr>\n",
       "    <tr>\n",
       "      <td>max</td>\n",
       "      <td>100.000000</td>\n",
       "      <td>23.000000</td>\n",
       "      <td>54.000000</td>\n",
       "      <td>100.000000</td>\n",
       "      <td>0.882648</td>\n",
       "      <td>97.510000</td>\n",
       "      <td>7.000000</td>\n",
       "      <td>64297.651218</td>\n",
       "      <td>5.00000</td>\n",
       "      <td>2.365378</td>\n",
       "      <td>12500.000000</td>\n",
       "    </tr>\n",
       "  </tbody>\n",
       "</table>\n",
       "</div>"
      ],
      "text/plain": [
       "       Safety_Score  Days_Since_Inspection  Total_Safety_Complaints  \\\n",
       "count  10000.000000           10000.000000             10000.000000   \n",
       "mean      41.876406              12.931100                 6.564300   \n",
       "std       16.138072               3.539803                 6.971982   \n",
       "min        0.000000               1.000000                 0.000000   \n",
       "25%       30.593607              11.000000                 2.000000   \n",
       "50%       41.278539              13.000000                 4.000000   \n",
       "75%       52.511416              15.000000                 9.000000   \n",
       "max      100.000000              23.000000                54.000000   \n",
       "\n",
       "       Control_Metric  Turbulence_In_gforces  Cabin_Temperature  \\\n",
       "count    10000.000000           10000.000000       10000.000000   \n",
       "mean        65.145324               0.381495          79.969331   \n",
       "std         11.882934               0.121301           2.759739   \n",
       "min          0.000000               0.134000          74.740000   \n",
       "25%         56.927985               0.293665          77.960000   \n",
       "50%         65.587967               0.365879          79.540000   \n",
       "75%         73.336372               0.451346          81.560000   \n",
       "max        100.000000               0.882648          97.510000   \n",
       "\n",
       "       Accident_Type_Code  Max_Elevation   Violations  Adverse_Weather_Metric  \\\n",
       "count        10000.000000   10000.000000  10000.00000            10000.000000   \n",
       "mean             3.814900   32001.803282      2.01220                0.255635   \n",
       "std              1.902577    9431.995196      1.03998                0.381128   \n",
       "min              1.000000     831.695553      0.00000                0.000316   \n",
       "25%              2.000000   25757.636908      1.00000                0.012063   \n",
       "50%              4.000000   32060.336419      2.00000                0.074467   \n",
       "75%              5.000000   38380.641513      3.00000                0.354059   \n",
       "max              7.000000   64297.651218      5.00000                2.365378   \n",
       "\n",
       "        Accident_ID  \n",
       "count  10000.000000  \n",
       "mean    6266.554200  \n",
       "std     3610.170288  \n",
       "min        2.000000  \n",
       "25%     3139.750000  \n",
       "50%     6280.500000  \n",
       "75%     9391.500000  \n",
       "max    12500.000000  "
      ]
     },
     "execution_count": 7,
     "metadata": {},
     "output_type": "execute_result"
    }
   ],
   "source": [
    "train.describe()"
   ]
  },
  {
   "cell_type": "code",
   "execution_count": 8,
   "metadata": {},
   "outputs": [
    {
     "data": {
      "text/plain": [
       "Severity                       4\n",
       "Safety_Score                1175\n",
       "Days_Since_Inspection         23\n",
       "Total_Safety_Complaints       44\n",
       "Control_Metric               952\n",
       "Turbulence_In_gforces       1117\n",
       "Cabin_Temperature            950\n",
       "Accident_Type_Code             7\n",
       "Max_Elevation               4191\n",
       "Violations                     6\n",
       "Adverse_Weather_Metric      4258\n",
       "Accident_ID                10000\n",
       "dtype: int64"
      ]
     },
     "execution_count": 8,
     "metadata": {},
     "output_type": "execute_result"
    }
   ],
   "source": [
    "train.nunique()"
   ]
  },
  {
   "cell_type": "code",
   "execution_count": null,
   "metadata": {
    "scrolled": true
   },
   "outputs": [],
   "source": []
  },
  {
   "cell_type": "code",
   "execution_count": 9,
   "metadata": {},
   "outputs": [
    {
     "data": {
      "text/html": [
       "<div>\n",
       "<style scoped>\n",
       "    .dataframe tbody tr th:only-of-type {\n",
       "        vertical-align: middle;\n",
       "    }\n",
       "\n",
       "    .dataframe tbody tr th {\n",
       "        vertical-align: top;\n",
       "    }\n",
       "\n",
       "    .dataframe thead th {\n",
       "        text-align: right;\n",
       "    }\n",
       "</style>\n",
       "<table border=\"1\" class=\"dataframe\">\n",
       "  <thead>\n",
       "    <tr style=\"text-align: right;\">\n",
       "      <th></th>\n",
       "      <th>Severity</th>\n",
       "      <th>Safety_Score</th>\n",
       "      <th>Days_Since_Inspection</th>\n",
       "      <th>Total_Safety_Complaints</th>\n",
       "      <th>Control_Metric</th>\n",
       "      <th>Turbulence_In_gforces</th>\n",
       "      <th>Cabin_Temperature</th>\n",
       "      <th>Accident_Type_Code</th>\n",
       "      <th>Max_Elevation</th>\n",
       "      <th>Violations</th>\n",
       "      <th>Adverse_Weather_Metric</th>\n",
       "      <th>Accident_ID</th>\n",
       "    </tr>\n",
       "  </thead>\n",
       "  <tbody>\n",
       "    <tr>\n",
       "      <td>0</td>\n",
       "      <td>Minor_Damage_And_Injuries</td>\n",
       "      <td>49.223744</td>\n",
       "      <td>14</td>\n",
       "      <td>22</td>\n",
       "      <td>71.285324</td>\n",
       "      <td>0.272118</td>\n",
       "      <td>78.04</td>\n",
       "      <td>2</td>\n",
       "      <td>31335.476824</td>\n",
       "      <td>3</td>\n",
       "      <td>0.424352</td>\n",
       "      <td>7570</td>\n",
       "    </tr>\n",
       "    <tr>\n",
       "      <td>1</td>\n",
       "      <td>Minor_Damage_And_Injuries</td>\n",
       "      <td>62.465753</td>\n",
       "      <td>10</td>\n",
       "      <td>27</td>\n",
       "      <td>72.288058</td>\n",
       "      <td>0.423939</td>\n",
       "      <td>84.54</td>\n",
       "      <td>2</td>\n",
       "      <td>26024.711057</td>\n",
       "      <td>2</td>\n",
       "      <td>0.352350</td>\n",
       "      <td>12128</td>\n",
       "    </tr>\n",
       "    <tr>\n",
       "      <td>2</td>\n",
       "      <td>Significant_Damage_And_Fatalities</td>\n",
       "      <td>63.059361</td>\n",
       "      <td>13</td>\n",
       "      <td>16</td>\n",
       "      <td>66.362808</td>\n",
       "      <td>0.322604</td>\n",
       "      <td>78.86</td>\n",
       "      <td>7</td>\n",
       "      <td>39269.053927</td>\n",
       "      <td>3</td>\n",
       "      <td>0.003364</td>\n",
       "      <td>2181</td>\n",
       "    </tr>\n",
       "    <tr>\n",
       "      <td>3</td>\n",
       "      <td>Significant_Damage_And_Serious_Injuries</td>\n",
       "      <td>48.082192</td>\n",
       "      <td>11</td>\n",
       "      <td>9</td>\n",
       "      <td>74.703737</td>\n",
       "      <td>0.337029</td>\n",
       "      <td>81.79</td>\n",
       "      <td>3</td>\n",
       "      <td>42771.499200</td>\n",
       "      <td>1</td>\n",
       "      <td>0.211728</td>\n",
       "      <td>5946</td>\n",
       "    </tr>\n",
       "    <tr>\n",
       "      <td>4</td>\n",
       "      <td>Significant_Damage_And_Fatalities</td>\n",
       "      <td>26.484018</td>\n",
       "      <td>13</td>\n",
       "      <td>25</td>\n",
       "      <td>47.948952</td>\n",
       "      <td>0.541140</td>\n",
       "      <td>77.16</td>\n",
       "      <td>3</td>\n",
       "      <td>35509.228515</td>\n",
       "      <td>2</td>\n",
       "      <td>0.176883</td>\n",
       "      <td>9054</td>\n",
       "    </tr>\n",
       "  </tbody>\n",
       "</table>\n",
       "</div>"
      ],
      "text/plain": [
       "                                  Severity  Safety_Score  \\\n",
       "0                Minor_Damage_And_Injuries     49.223744   \n",
       "1                Minor_Damage_And_Injuries     62.465753   \n",
       "2        Significant_Damage_And_Fatalities     63.059361   \n",
       "3  Significant_Damage_And_Serious_Injuries     48.082192   \n",
       "4        Significant_Damage_And_Fatalities     26.484018   \n",
       "\n",
       "   Days_Since_Inspection  Total_Safety_Complaints  Control_Metric  \\\n",
       "0                     14                       22       71.285324   \n",
       "1                     10                       27       72.288058   \n",
       "2                     13                       16       66.362808   \n",
       "3                     11                        9       74.703737   \n",
       "4                     13                       25       47.948952   \n",
       "\n",
       "   Turbulence_In_gforces  Cabin_Temperature  Accident_Type_Code  \\\n",
       "0               0.272118              78.04                   2   \n",
       "1               0.423939              84.54                   2   \n",
       "2               0.322604              78.86                   7   \n",
       "3               0.337029              81.79                   3   \n",
       "4               0.541140              77.16                   3   \n",
       "\n",
       "   Max_Elevation  Violations  Adverse_Weather_Metric  Accident_ID  \n",
       "0   31335.476824           3                0.424352         7570  \n",
       "1   26024.711057           2                0.352350        12128  \n",
       "2   39269.053927           3                0.003364         2181  \n",
       "3   42771.499200           1                0.211728         5946  \n",
       "4   35509.228515           2                0.176883         9054  "
      ]
     },
     "execution_count": 9,
     "metadata": {},
     "output_type": "execute_result"
    }
   ],
   "source": [
    "train.head()"
   ]
  },
  {
   "cell_type": "code",
   "execution_count": 10,
   "metadata": {},
   "outputs": [
    {
     "data": {
      "text/plain": [
       "Highly_Fatal_And_Damaging                  3049\n",
       "Significant_Damage_And_Serious_Injuries    2729\n",
       "Minor_Damage_And_Injuries                  2527\n",
       "Significant_Damage_And_Fatalities          1695\n",
       "Name: Severity, dtype: int64"
      ]
     },
     "execution_count": 10,
     "metadata": {},
     "output_type": "execute_result"
    }
   ],
   "source": [
    "train.Severity.value_counts()"
   ]
  },
  {
   "cell_type": "code",
   "execution_count": 11,
   "metadata": {},
   "outputs": [],
   "source": [
    "def target(x):\n",
    "    if (x=='Significant_Damage_And_Fatalities'):\n",
    "        return 0\n",
    "    if (x=='Minor_Damage_And_Injuries'):\n",
    "        return 1\n",
    "    if (x=='Significant_Damage_And_Serious_Injuries'):\n",
    "        return 2\n",
    "    if (x=='Highly_Fatal_And_Damaging'):\n",
    "        return 3"
   ]
  },
  {
   "cell_type": "code",
   "execution_count": null,
   "metadata": {},
   "outputs": [],
   "source": []
  },
  {
   "cell_type": "code",
   "execution_count": 12,
   "metadata": {},
   "outputs": [],
   "source": [
    "train['Severity_final'] = train.Severity.apply(target)"
   ]
  },
  {
   "cell_type": "code",
   "execution_count": 13,
   "metadata": {},
   "outputs": [],
   "source": [
    "del train['Severity']"
   ]
  },
  {
   "cell_type": "code",
   "execution_count": 14,
   "metadata": {},
   "outputs": [
    {
     "data": {
      "text/html": [
       "<div>\n",
       "<style scoped>\n",
       "    .dataframe tbody tr th:only-of-type {\n",
       "        vertical-align: middle;\n",
       "    }\n",
       "\n",
       "    .dataframe tbody tr th {\n",
       "        vertical-align: top;\n",
       "    }\n",
       "\n",
       "    .dataframe thead th {\n",
       "        text-align: right;\n",
       "    }\n",
       "</style>\n",
       "<table border=\"1\" class=\"dataframe\">\n",
       "  <thead>\n",
       "    <tr style=\"text-align: right;\">\n",
       "      <th></th>\n",
       "      <th>Safety_Score</th>\n",
       "      <th>Days_Since_Inspection</th>\n",
       "      <th>Total_Safety_Complaints</th>\n",
       "      <th>Control_Metric</th>\n",
       "      <th>Turbulence_In_gforces</th>\n",
       "      <th>Cabin_Temperature</th>\n",
       "      <th>Accident_Type_Code</th>\n",
       "      <th>Max_Elevation</th>\n",
       "      <th>Violations</th>\n",
       "      <th>Adverse_Weather_Metric</th>\n",
       "      <th>Accident_ID</th>\n",
       "      <th>Severity_final</th>\n",
       "    </tr>\n",
       "  </thead>\n",
       "  <tbody>\n",
       "    <tr>\n",
       "      <td>0</td>\n",
       "      <td>49.223744</td>\n",
       "      <td>14</td>\n",
       "      <td>22</td>\n",
       "      <td>71.285324</td>\n",
       "      <td>0.272118</td>\n",
       "      <td>78.04</td>\n",
       "      <td>2</td>\n",
       "      <td>31335.476824</td>\n",
       "      <td>3</td>\n",
       "      <td>0.424352</td>\n",
       "      <td>7570</td>\n",
       "      <td>1</td>\n",
       "    </tr>\n",
       "    <tr>\n",
       "      <td>1</td>\n",
       "      <td>62.465753</td>\n",
       "      <td>10</td>\n",
       "      <td>27</td>\n",
       "      <td>72.288058</td>\n",
       "      <td>0.423939</td>\n",
       "      <td>84.54</td>\n",
       "      <td>2</td>\n",
       "      <td>26024.711057</td>\n",
       "      <td>2</td>\n",
       "      <td>0.352350</td>\n",
       "      <td>12128</td>\n",
       "      <td>1</td>\n",
       "    </tr>\n",
       "    <tr>\n",
       "      <td>2</td>\n",
       "      <td>63.059361</td>\n",
       "      <td>13</td>\n",
       "      <td>16</td>\n",
       "      <td>66.362808</td>\n",
       "      <td>0.322604</td>\n",
       "      <td>78.86</td>\n",
       "      <td>7</td>\n",
       "      <td>39269.053927</td>\n",
       "      <td>3</td>\n",
       "      <td>0.003364</td>\n",
       "      <td>2181</td>\n",
       "      <td>0</td>\n",
       "    </tr>\n",
       "    <tr>\n",
       "      <td>3</td>\n",
       "      <td>48.082192</td>\n",
       "      <td>11</td>\n",
       "      <td>9</td>\n",
       "      <td>74.703737</td>\n",
       "      <td>0.337029</td>\n",
       "      <td>81.79</td>\n",
       "      <td>3</td>\n",
       "      <td>42771.499200</td>\n",
       "      <td>1</td>\n",
       "      <td>0.211728</td>\n",
       "      <td>5946</td>\n",
       "      <td>2</td>\n",
       "    </tr>\n",
       "    <tr>\n",
       "      <td>4</td>\n",
       "      <td>26.484018</td>\n",
       "      <td>13</td>\n",
       "      <td>25</td>\n",
       "      <td>47.948952</td>\n",
       "      <td>0.541140</td>\n",
       "      <td>77.16</td>\n",
       "      <td>3</td>\n",
       "      <td>35509.228515</td>\n",
       "      <td>2</td>\n",
       "      <td>0.176883</td>\n",
       "      <td>9054</td>\n",
       "      <td>0</td>\n",
       "    </tr>\n",
       "  </tbody>\n",
       "</table>\n",
       "</div>"
      ],
      "text/plain": [
       "   Safety_Score  Days_Since_Inspection  Total_Safety_Complaints  \\\n",
       "0     49.223744                     14                       22   \n",
       "1     62.465753                     10                       27   \n",
       "2     63.059361                     13                       16   \n",
       "3     48.082192                     11                        9   \n",
       "4     26.484018                     13                       25   \n",
       "\n",
       "   Control_Metric  Turbulence_In_gforces  Cabin_Temperature  \\\n",
       "0       71.285324               0.272118              78.04   \n",
       "1       72.288058               0.423939              84.54   \n",
       "2       66.362808               0.322604              78.86   \n",
       "3       74.703737               0.337029              81.79   \n",
       "4       47.948952               0.541140              77.16   \n",
       "\n",
       "   Accident_Type_Code  Max_Elevation  Violations  Adverse_Weather_Metric  \\\n",
       "0                   2   31335.476824           3                0.424352   \n",
       "1                   2   26024.711057           2                0.352350   \n",
       "2                   7   39269.053927           3                0.003364   \n",
       "3                   3   42771.499200           1                0.211728   \n",
       "4                   3   35509.228515           2                0.176883   \n",
       "\n",
       "   Accident_ID  Severity_final  \n",
       "0         7570               1  \n",
       "1        12128               1  \n",
       "2         2181               0  \n",
       "3         5946               2  \n",
       "4         9054               0  "
      ]
     },
     "execution_count": 14,
     "metadata": {},
     "output_type": "execute_result"
    }
   ],
   "source": [
    "train.head()"
   ]
  },
  {
   "cell_type": "code",
   "execution_count": 15,
   "metadata": {},
   "outputs": [
    {
     "data": {
      "text/plain": [
       "Index(['Safety_Score', 'Days_Since_Inspection', 'Total_Safety_Complaints',\n",
       "       'Control_Metric', 'Turbulence_In_gforces', 'Cabin_Temperature',\n",
       "       'Accident_Type_Code', 'Max_Elevation', 'Violations',\n",
       "       'Adverse_Weather_Metric', 'Accident_ID', 'Severity_final'],\n",
       "      dtype='object')"
      ]
     },
     "execution_count": 15,
     "metadata": {},
     "output_type": "execute_result"
    }
   ],
   "source": [
    "train.columns"
   ]
  },
  {
   "cell_type": "code",
   "execution_count": 16,
   "metadata": {},
   "outputs": [],
   "source": [
    "numeric_features = ['Safety_Score','Days_Since_Inspection','Total_Safety_Complaints','Control_Metric','Turbulence_In_gforces','Cabin_Temperature','Accident_Type_Code','Max_Elevation','Violations','Adverse_Weather_Metric','Accident_ID']"
   ]
  },
  {
   "cell_type": "code",
   "execution_count": 17,
   "metadata": {},
   "outputs": [
    {
     "data": {
      "image/png": "[encoded data removed]",
      "text/plain": [
       "<Figure size 432x288 with 1 Axes>"
      ]
     },
     "metadata": {
      "needs_background": "light"
     },
     "output_type": "display_data"
    },
    {
     "data": {
      "image/png": "[encoded data removed]",
      "text/plain": [
       "<Figure size 432x288 with 1 Axes>"
      ]
     },
     "metadata": {
      "needs_background": "light"
     },
     "output_type": "display_data"
    },
    {
     "data": {
      "image/png": "[encoded data removed]",
      "text/plain": [
       "<Figure size 432x288 with 1 Axes>"
      ]
     },
     "metadata": {
      "needs_background": "light"
     },
     "output_type": "display_data"
    },
    {
     "data": {
      "image/png": "[encoded data removed]",
      "text/plain": [
       "<Figure size 432x288 with 1 Axes>"
      ]
     },
     "metadata": {
      "needs_background": "light"
     },
     "output_type": "display_data"
    },
    {
     "data": {
      "image/png": "[encoded data removed]",
      "text/plain": [
       "<Figure size 432x288 with 1 Axes>"
      ]
     },
     "metadata": {
      "needs_background": "light"
     },
     "output_type": "display_data"
    },
    {
     "data": {
      "image/png": "[encoded data removed]",
      "text/plain": [
       "<Figure size 432x288 with 1 Axes>"
      ]
     },
     "metadata": {
      "needs_background": "light"
     },
     "output_type": "display_data"
    },
    {
     "data": {
      "image/png": "[encoded data removed]",
      "text/plain": [
       "<Figure size 432x288 with 1 Axes>"
      ]
     },
     "metadata": {
      "needs_background": "light"
     },
     "output_type": "display_data"
    },
    {
     "data": {
      "image/png": "[encoded data removed]",
      "text/plain": [
       "<Figure size 432x288 with 1 Axes>"
      ]
     },
     "metadata": {
      "needs_background": "light"
     },
     "output_type": "display_data"
    },
    {
     "data": {
      "image/png": "[encoded data removed]",
      "text/plain": [
       "<Figure size 432x288 with 1 Axes>"
      ]
     },
     "metadata": {
      "needs_background": "light"
     },
     "output_type": "display_data"
    },
    {
     "data": {
      "image/png": "[encoded data removed]",
      "text/plain": [
       "<Figure size 432x288 with 1 Axes>"
      ]
     },
     "metadata": {
      "needs_background": "light"
     },
     "output_type": "display_data"
    },
    {
     "data": {
      "image/png": "[encoded data removed]",
      "text/plain": [
       "<Figure size 432x288 with 1 Axes>"
      ]
     },
     "metadata": {
      "needs_background": "light"
     },
     "output_type": "display_data"
    }
   ],
   "source": [
    "for i in numeric_features:\n",
    "    plt.scatter(train[i], train['Severity_final'])\n",
    "    plt.xlabel(xlabel=i)\n",
    "    plt.show()"
   ]
  },
  {
   "cell_type": "markdown",
   "metadata": {},
   "source": [
    "## Submitting data without new features "
   ]
  },
  {
   "cell_type": "code",
   "execution_count": null,
   "metadata": {},
   "outputs": [],
   "source": []
  },
  {
   "cell_type": "code",
   "execution_count": null,
   "metadata": {
    "scrolled": false
   },
   "outputs": [],
   "source": []
  },
  {
   "cell_type": "code",
   "execution_count": 18,
   "metadata": {},
   "outputs": [
    {
     "data": {
      "text/html": [
       "<div>\n",
       "<style scoped>\n",
       "    .dataframe tbody tr th:only-of-type {\n",
       "        vertical-align: middle;\n",
       "    }\n",
       "\n",
       "    .dataframe tbody tr th {\n",
       "        vertical-align: top;\n",
       "    }\n",
       "\n",
       "    .dataframe thead th {\n",
       "        text-align: right;\n",
       "    }\n",
       "</style>\n",
       "<table border=\"1\" class=\"dataframe\">\n",
       "  <thead>\n",
       "    <tr style=\"text-align: right;\">\n",
       "      <th></th>\n",
       "      <th>Safety_Score</th>\n",
       "      <th>Days_Since_Inspection</th>\n",
       "      <th>Total_Safety_Complaints</th>\n",
       "      <th>Control_Metric</th>\n",
       "      <th>Turbulence_In_gforces</th>\n",
       "      <th>Cabin_Temperature</th>\n",
       "      <th>Accident_Type_Code</th>\n",
       "      <th>Max_Elevation</th>\n",
       "      <th>Violations</th>\n",
       "      <th>Adverse_Weather_Metric</th>\n",
       "      <th>Accident_ID</th>\n",
       "    </tr>\n",
       "  </thead>\n",
       "  <tbody>\n",
       "    <tr>\n",
       "      <td>0</td>\n",
       "      <td>19.497717</td>\n",
       "      <td>16</td>\n",
       "      <td>6</td>\n",
       "      <td>72.151322</td>\n",
       "      <td>0.388959</td>\n",
       "      <td>78.32</td>\n",
       "      <td>4</td>\n",
       "      <td>37949.724386</td>\n",
       "      <td>2</td>\n",
       "      <td>0.069692</td>\n",
       "      <td>1</td>\n",
       "    </tr>\n",
       "    <tr>\n",
       "      <td>1</td>\n",
       "      <td>58.173516</td>\n",
       "      <td>15</td>\n",
       "      <td>3</td>\n",
       "      <td>64.585232</td>\n",
       "      <td>0.250841</td>\n",
       "      <td>78.60</td>\n",
       "      <td>7</td>\n",
       "      <td>30194.805567</td>\n",
       "      <td>2</td>\n",
       "      <td>0.002777</td>\n",
       "      <td>10</td>\n",
       "    </tr>\n",
       "    <tr>\n",
       "      <td>2</td>\n",
       "      <td>33.287671</td>\n",
       "      <td>15</td>\n",
       "      <td>3</td>\n",
       "      <td>64.721969</td>\n",
       "      <td>0.336669</td>\n",
       "      <td>86.96</td>\n",
       "      <td>6</td>\n",
       "      <td>17572.925484</td>\n",
       "      <td>1</td>\n",
       "      <td>0.004316</td>\n",
       "      <td>14</td>\n",
       "    </tr>\n",
       "    <tr>\n",
       "      <td>3</td>\n",
       "      <td>3.287671</td>\n",
       "      <td>21</td>\n",
       "      <td>5</td>\n",
       "      <td>66.362808</td>\n",
       "      <td>0.421775</td>\n",
       "      <td>80.86</td>\n",
       "      <td>3</td>\n",
       "      <td>40209.186341</td>\n",
       "      <td>2</td>\n",
       "      <td>0.199990</td>\n",
       "      <td>17</td>\n",
       "    </tr>\n",
       "    <tr>\n",
       "      <td>4</td>\n",
       "      <td>10.867580</td>\n",
       "      <td>18</td>\n",
       "      <td>2</td>\n",
       "      <td>56.107566</td>\n",
       "      <td>0.313228</td>\n",
       "      <td>79.22</td>\n",
       "      <td>2</td>\n",
       "      <td>35495.525408</td>\n",
       "      <td>2</td>\n",
       "      <td>0.483696</td>\n",
       "      <td>21</td>\n",
       "    </tr>\n",
       "  </tbody>\n",
       "</table>\n",
       "</div>"
      ],
      "text/plain": [
       "   Safety_Score  Days_Since_Inspection  Total_Safety_Complaints  \\\n",
       "0     19.497717                     16                        6   \n",
       "1     58.173516                     15                        3   \n",
       "2     33.287671                     15                        3   \n",
       "3      3.287671                     21                        5   \n",
       "4     10.867580                     18                        2   \n",
       "\n",
       "   Control_Metric  Turbulence_In_gforces  Cabin_Temperature  \\\n",
       "0       72.151322               0.388959              78.32   \n",
       "1       64.585232               0.250841              78.60   \n",
       "2       64.721969               0.336669              86.96   \n",
       "3       66.362808               0.421775              80.86   \n",
       "4       56.107566               0.313228              79.22   \n",
       "\n",
       "   Accident_Type_Code  Max_Elevation  Violations  Adverse_Weather_Metric  \\\n",
       "0                   4   37949.724386           2                0.069692   \n",
       "1                   7   30194.805567           2                0.002777   \n",
       "2                   6   17572.925484           1                0.004316   \n",
       "3                   3   40209.186341           2                0.199990   \n",
       "4                   2   35495.525408           2                0.483696   \n",
       "\n",
       "   Accident_ID  \n",
       "0            1  \n",
       "1           10  \n",
       "2           14  \n",
       "3           17  \n",
       "4           21  "
      ]
     },
     "execution_count": 18,
     "metadata": {},
     "output_type": "execute_result"
    }
   ],
   "source": [
    "test.head()"
   ]
  },
  {
   "cell_type": "markdown",
   "metadata": {},
   "source": [
    "## Preprocessing"
   ]
  },
  {
   "cell_type": "code",
   "execution_count": 19,
   "metadata": {},
   "outputs": [
    {
     "name": "stdout",
     "output_type": "stream",
     "text": [
      "Train Shape : (10000, 12) \n",
      " Test Shape : (2500, 11)\n"
     ]
    }
   ],
   "source": [
    "\n",
    "print(\"Train Shape :\",train.shape,\"\\n Test Shape :\",test.shape)"
   ]
  },
  {
   "cell_type": "markdown",
   "metadata": {},
   "source": [
    "## Train Validation Split"
   ]
  },
  {
   "cell_type": "code",
   "execution_count": 20,
   "metadata": {},
   "outputs": [
    {
     "name": "stdout",
     "output_type": "stream",
     "text": [
      "TrainX : (8000, 12) \n",
      "ValidX : (2000, 12)\n"
     ]
    }
   ],
   "source": [
    "trainX,ValidX = train_test_split(train,test_size = 0.2,shuffle = False,random_state = 13)\n",
    "print(\"TrainX :\",trainX.shape,\"\\nValidX :\",ValidX.shape)"
   ]
  },
  {
   "cell_type": "code",
   "execution_count": 21,
   "metadata": {},
   "outputs": [],
   "source": [
    "target = 'Severity_final'"
   ]
  },
  {
   "cell_type": "code",
   "execution_count": 22,
   "metadata": {},
   "outputs": [
    {
     "name": "stdout",
     "output_type": "stream",
     "text": [
      "Feature Length : 11\n"
     ]
    }
   ],
   "source": [
    "test.reset_index(drop=True, inplace=True)\n",
    "feat = train.columns.tolist()\n",
    "feat.remove(target)\n",
    "print(\"Feature Length : {}\".format(len(feat)))"
   ]
  },
  {
   "cell_type": "markdown",
   "metadata": {},
   "source": [
    "## Model"
   ]
  },
  {
   "cell_type": "markdown",
   "metadata": {},
   "source": [
    "### Baselinear Model"
   ]
  },
  {
   "cell_type": "code",
   "execution_count": 23,
   "metadata": {},
   "outputs": [],
   "source": [
    "def baseliner(train, features, target, cv=3, metric=make_scorer(metric, True)):\n",
    "    print(\"Baseliner Models(All)\")\n",
    "    eval_dict = {}\n",
    "    models = [\n",
    "        KNeighborsRegressor(), GaussianNB(), \n",
    "        lgb.LGBMRegressor(), ExtraTreesRegressor(), xgb.XGBRegressor(objective='reg:squarederror'), \n",
    "        cat.CatBoostRegressor(verbose=0), GradientBoostingRegressor(), RandomForestRegressor(), \n",
    "        LinearRegression(), DecisionTreeRegressor(), ExtraTreeRegressor(), AdaBoostRegressor(), \n",
    "        BaggingRegressor(), ElasticNet(), Lasso(), Ridge(), \n",
    "        ] #SVR(), \n",
    "\n",
    "    print(\"sklearn Model Name  \\t  CV\")\n",
    "    print(\"--\" * 50)\n",
    "\n",
    "    for index, model in enumerate(models, 0):\n",
    "        model_name = str(model).split(\"(\")[0]\n",
    "        eval_dict[model_name] = {}\n",
    "\n",
    "        results = cross_val_score(model, train[features], train[target], cv=cv, scoring=metric)\n",
    "        eval_dict[model_name]['cv'] = results.mean()\n",
    "\n",
    "        print(\"%s \\t %.4f \\t\" % (\n",
    "            model_name[:21], eval_dict[model_name]['cv']))"
   ]
  },
  {
   "cell_type": "code",
   "execution_count": 24,
   "metadata": {},
   "outputs": [],
   "source": [
    "tscv = TimeSeriesSplit(n_splits=3)"
   ]
  },
  {
   "cell_type": "code",
   "execution_count": null,
   "metadata": {},
   "outputs": [],
   "source": []
  },
  {
   "cell_type": "code",
   "execution_count": 25,
   "metadata": {
    "scrolled": true
   },
   "outputs": [
    {
     "name": "stdout",
     "output_type": "stream",
     "text": [
      "Baseliner Models(All)\n",
      "sklearn Model Name  \t  CV\n",
      "----------------------------------------------------------------------------------------------------\n",
      "KNeighborsRegressor \t 99.4836 \t\n",
      "GaussianNB \t 99.4462 \t\n",
      "LGBMRegressor \t 99.8199 \t\n",
      "ExtraTreesRegressor \t 99.7957 \t\n",
      "XGBRegressor \t 99.7853 \t\n",
      "<catboost.core.CatBoo \t 99.8214 \t\n",
      "GradientBoostingRegre \t 99.7868 \t\n",
      "RandomForestRegressor \t 99.8208 \t\n",
      "LinearRegression \t 99.5734 \t\n",
      "DecisionTreeRegressor \t 99.7898 \t\n",
      "ExtraTreeRegressor \t 99.7030 \t\n",
      "AdaBoostRegressor \t 99.6242 \t\n",
      "BaggingRegressor \t 99.8223 \t\n",
      "ElasticNet \t 99.5594 \t\n",
      "Lasso \t 99.5393 \t\n",
      "Ridge \t 99.5734 \t\n"
     ]
    }
   ],
   "source": [
    "baseliner(train,feat,target,cv=tscv,metric=make_scorer(metric,True))"
   ]
  },
  {
   "cell_type": "markdown",
   "metadata": {},
   "source": [
    "## Light GBM"
   ]
  },
  {
   "cell_type": "code",
   "execution_count": 26,
   "metadata": {},
   "outputs": [],
   "source": [
    "def lgb_model(train, features, target, ts=False, plot=True):\n",
    "    evals_result = {}\n",
    "    trainX, validX, trainY, validY = train_test_split(train[features], train[target], shuffle=False, test_size=0.2, random_state=13)\n",
    "    print(\"LGB Model\")\n",
    "    lgb_train_set = lgb.Dataset(trainX, label=trainY)\n",
    "    lgb_valid_set = lgb.Dataset(validX, label=validY)\n",
    "\n",
    "    MAX_ROUNDS = 1111\n",
    "    lgb_params = {\n",
    "        \"boosting\": 'dart',\n",
    "        \"learning_rate\": 0.1,\n",
    "        \"nthread\": -1,\n",
    "        \"seed\": 13,\n",
    "        \"num_boost_round\": MAX_ROUNDS,\n",
    "        \"objective\": \"regression\",\n",
    "    }\n",
    "\n",
    "    lgb_model = lgb.train(\n",
    "        lgb_params,\n",
    "        train_set=lgb_train_set,\n",
    "        valid_sets=[lgb_train_set, lgb_valid_set],\n",
    "        early_stopping_rounds=250,\n",
    "        verbose_eval=100,\n",
    "        evals_result=evals_result,\n",
    "        feval=metric_lgb # New metric to be optimised\n",
    "    )\n",
    "    if plot:\n",
    "        lgb.plot_importance(lgb_model, figsize=(24, 24))\n",
    "        lgb.plot_metric(evals_result, metric='100-rmse')\n",
    "\n",
    "    return lgb_model, lgb_model.best_score"
   ]
  },
  {
   "cell_type": "code",
   "execution_count": 27,
   "metadata": {},
   "outputs": [
    {
     "name": "stdout",
     "output_type": "stream",
     "text": [
      "LGB Model\n",
      "[100]\ttraining's l2: 0.198278\ttraining's 100-rmse: 99.8266\tvalid_1's l2: 0.187825\tvalid_1's 100-rmse: 99.8274\n",
      "[200]\ttraining's l2: 0.129749\ttraining's 100-rmse: 99.8505\tvalid_1's l2: 0.133469\tvalid_1's 100-rmse: 99.8418\n",
      "[300]\ttraining's l2: 0.0847945\ttraining's 100-rmse: 99.8726\tvalid_1's l2: 0.109027\tvalid_1's 100-rmse: 99.8479\n",
      "[400]\ttraining's l2: 0.0626635\ttraining's 100-rmse: 99.8874\tvalid_1's l2: 0.0997864\tvalid_1's 100-rmse: 99.8519\n",
      "[500]\ttraining's l2: 0.0537414\ttraining's 100-rmse: 99.8942\tvalid_1's l2: 0.0958042\tvalid_1's 100-rmse: 99.8532\n",
      "[600]\ttraining's l2: 0.0430908\ttraining's 100-rmse: 99.9028\tvalid_1's l2: 0.0925072\tvalid_1's 100-rmse: 99.8541\n",
      "[700]\ttraining's l2: 0.0423211\ttraining's 100-rmse: 99.9049\tvalid_1's l2: 0.0916705\tvalid_1's 100-rmse: 99.8557\n",
      "[800]\ttraining's l2: 0.0366336\ttraining's 100-rmse: 99.9101\tvalid_1's l2: 0.0911635\tvalid_1's 100-rmse: 99.8551\n",
      "[900]\ttraining's l2: 0.0295633\ttraining's 100-rmse: 99.9186\tvalid_1's l2: 0.0893729\tvalid_1's 100-rmse: 99.8559\n",
      "[1000]\ttraining's l2: 0.0263127\ttraining's 100-rmse: 99.9234\tvalid_1's l2: 0.088842\tvalid_1's 100-rmse: 99.8562\n",
      "[1100]\ttraining's l2: 0.0231438\ttraining's 100-rmse: 99.9278\tvalid_1's l2: 0.0879962\tvalid_1's 100-rmse: 99.8569\n"
     ]
    },
    {
     "data": {
      "image/png": "[encoded data removed]",
      "text/plain": [
       "<Figure size 1728x1728 with 1 Axes>"
      ]
     },
     "metadata": {
      "needs_background": "light"
     },
     "output_type": "display_data"
    },
    {
     "data": {
      "image/png": "[encoded data removed]",
      "text/plain": [
       "<Figure size 432x288 with 1 Axes>"
      ]
     },
     "metadata": {
      "needs_background": "light"
     },
     "output_type": "display_data"
    }
   ],
   "source": [
    "lgbM, score = lgb_model(train,feat,target,True,True)"
   ]
  },
  {
   "cell_type": "markdown",
   "metadata": {},
   "source": [
    "## Train On Full DATA"
   ]
  },
  {
   "cell_type": "code",
   "execution_count": 28,
   "metadata": {},
   "outputs": [],
   "source": [
    "lgbtrain = lgb.Dataset(train[feat],label = train[target])"
   ]
  },
  {
   "cell_type": "code",
   "execution_count": 29,
   "metadata": {},
   "outputs": [],
   "source": [
    "MAX_ROUNDS = 1111\n",
    "lgb_params = {\n",
    "    \"boosting\": 'dart',\n",
    "    \"learning_rate\": 0.1,\n",
    "    \"nthread\": -1,\n",
    "    \"seed\": 13,\n",
    "    \"num_boost_round\": MAX_ROUNDS,\n",
    "    \"objective\": \"regression\",\n",
    "    'min_split_gain': 0,\n",
    "}"
   ]
  },
  {
   "cell_type": "code",
   "execution_count": 30,
   "metadata": {},
   "outputs": [],
   "source": [
    "lgb_model = lgb.train(\n",
    "    lgb_params,\n",
    "    train_set=lgbtrain,\n",
    "    verbose_eval=100,\n",
    "    feval=metric_lgb, # New metric to be optimised\n",
    ")"
   ]
  },
  {
   "cell_type": "code",
   "execution_count": 31,
   "metadata": {},
   "outputs": [
    {
     "data": {
      "text/plain": [
       "<matplotlib.axes._subplots.AxesSubplot at 0x7f4dd4013b10>"
      ]
     },
     "execution_count": 31,
     "metadata": {},
     "output_type": "execute_result"
    },
    {
     "data": {
      "image/png": "[encoded data removed]",
      "text/plain": [
       "<Figure size 1728x1728 with 1 Axes>"
      ]
     },
     "metadata": {
      "needs_background": "light"
     },
     "output_type": "display_data"
    }
   ],
   "source": [
    "lgb.plot_importance(lgb_model, figsize=(24, 24))"
   ]
  },
  {
   "cell_type": "code",
   "execution_count": 46,
   "metadata": {
    "scrolled": true
   },
   "outputs": [
    {
     "data": {
      "text/plain": [
       "0    2\n",
       "1    0\n",
       "2    1\n",
       "3    2\n",
       "4    0\n",
       "Name: Severity_final, dtype: int64"
      ]
     },
     "execution_count": 46,
     "metadata": {},
     "output_type": "execute_result"
    }
   ],
   "source": [
    "y_preds = (lgb_model.predict(test[feat])).astype(int)\n",
    "test[target] = y_preds\n",
    "test[target].head()"
   ]
  },
  {
   "cell_type": "code",
   "execution_count": 47,
   "metadata": {},
   "outputs": [
    {
     "data": {
      "text/html": [
       "<div>\n",
       "<style scoped>\n",
       "    .dataframe tbody tr th:only-of-type {\n",
       "        vertical-align: middle;\n",
       "    }\n",
       "\n",
       "    .dataframe tbody tr th {\n",
       "        vertical-align: top;\n",
       "    }\n",
       "\n",
       "    .dataframe thead th {\n",
       "        text-align: right;\n",
       "    }\n",
       "</style>\n",
       "<table border=\"1\" class=\"dataframe\">\n",
       "  <thead>\n",
       "    <tr style=\"text-align: right;\">\n",
       "      <th></th>\n",
       "      <th>Safety_Score</th>\n",
       "      <th>Days_Since_Inspection</th>\n",
       "      <th>Total_Safety_Complaints</th>\n",
       "      <th>Control_Metric</th>\n",
       "      <th>Turbulence_In_gforces</th>\n",
       "      <th>Cabin_Temperature</th>\n",
       "      <th>Accident_Type_Code</th>\n",
       "      <th>Max_Elevation</th>\n",
       "      <th>Violations</th>\n",
       "      <th>Adverse_Weather_Metric</th>\n",
       "      <th>Accident_ID</th>\n",
       "      <th>Severity_final</th>\n",
       "    </tr>\n",
       "  </thead>\n",
       "  <tbody>\n",
       "    <tr>\n",
       "      <td>0</td>\n",
       "      <td>19.497717</td>\n",
       "      <td>16</td>\n",
       "      <td>6</td>\n",
       "      <td>72.151322</td>\n",
       "      <td>0.388959</td>\n",
       "      <td>78.32</td>\n",
       "      <td>4</td>\n",
       "      <td>37949.724386</td>\n",
       "      <td>2</td>\n",
       "      <td>0.069692</td>\n",
       "      <td>1</td>\n",
       "      <td>2</td>\n",
       "    </tr>\n",
       "    <tr>\n",
       "      <td>1</td>\n",
       "      <td>58.173516</td>\n",
       "      <td>15</td>\n",
       "      <td>3</td>\n",
       "      <td>64.585232</td>\n",
       "      <td>0.250841</td>\n",
       "      <td>78.60</td>\n",
       "      <td>7</td>\n",
       "      <td>30194.805567</td>\n",
       "      <td>2</td>\n",
       "      <td>0.002777</td>\n",
       "      <td>10</td>\n",
       "      <td>0</td>\n",
       "    </tr>\n",
       "    <tr>\n",
       "      <td>2</td>\n",
       "      <td>33.287671</td>\n",
       "      <td>15</td>\n",
       "      <td>3</td>\n",
       "      <td>64.721969</td>\n",
       "      <td>0.336669</td>\n",
       "      <td>86.96</td>\n",
       "      <td>6</td>\n",
       "      <td>17572.925484</td>\n",
       "      <td>1</td>\n",
       "      <td>0.004316</td>\n",
       "      <td>14</td>\n",
       "      <td>1</td>\n",
       "    </tr>\n",
       "    <tr>\n",
       "      <td>3</td>\n",
       "      <td>3.287671</td>\n",
       "      <td>21</td>\n",
       "      <td>5</td>\n",
       "      <td>66.362808</td>\n",
       "      <td>0.421775</td>\n",
       "      <td>80.86</td>\n",
       "      <td>3</td>\n",
       "      <td>40209.186341</td>\n",
       "      <td>2</td>\n",
       "      <td>0.199990</td>\n",
       "      <td>17</td>\n",
       "      <td>2</td>\n",
       "    </tr>\n",
       "    <tr>\n",
       "      <td>4</td>\n",
       "      <td>10.867580</td>\n",
       "      <td>18</td>\n",
       "      <td>2</td>\n",
       "      <td>56.107566</td>\n",
       "      <td>0.313228</td>\n",
       "      <td>79.22</td>\n",
       "      <td>2</td>\n",
       "      <td>35495.525408</td>\n",
       "      <td>2</td>\n",
       "      <td>0.483696</td>\n",
       "      <td>21</td>\n",
       "      <td>0</td>\n",
       "    </tr>\n",
       "  </tbody>\n",
       "</table>\n",
       "</div>"
      ],
      "text/plain": [
       "   Safety_Score  Days_Since_Inspection  Total_Safety_Complaints  \\\n",
       "0     19.497717                     16                        6   \n",
       "1     58.173516                     15                        3   \n",
       "2     33.287671                     15                        3   \n",
       "3      3.287671                     21                        5   \n",
       "4     10.867580                     18                        2   \n",
       "\n",
       "   Control_Metric  Turbulence_In_gforces  Cabin_Temperature  \\\n",
       "0       72.151322               0.388959              78.32   \n",
       "1       64.585232               0.250841              78.60   \n",
       "2       64.721969               0.336669              86.96   \n",
       "3       66.362808               0.421775              80.86   \n",
       "4       56.107566               0.313228              79.22   \n",
       "\n",
       "   Accident_Type_Code  Max_Elevation  Violations  Adverse_Weather_Metric  \\\n",
       "0                   4   37949.724386           2                0.069692   \n",
       "1                   7   30194.805567           2                0.002777   \n",
       "2                   6   17572.925484           1                0.004316   \n",
       "3                   3   40209.186341           2                0.199990   \n",
       "4                   2   35495.525408           2                0.483696   \n",
       "\n",
       "   Accident_ID  Severity_final  \n",
       "0            1               2  \n",
       "1           10               0  \n",
       "2           14               1  \n",
       "3           17               2  \n",
       "4           21               0  "
      ]
     },
     "execution_count": 47,
     "metadata": {},
     "output_type": "execute_result"
    }
   ],
   "source": [
    "test.head()"
   ]
  },
  {
   "cell_type": "code",
   "execution_count": 48,
   "metadata": {},
   "outputs": [],
   "source": [
    "sub = test['Accident_ID']\n",
    "sub = pd.DataFrame(sub)"
   ]
  },
  {
   "cell_type": "code",
   "execution_count": 49,
   "metadata": {},
   "outputs": [],
   "source": [
    "sub['Severity'] = test['Severity_final']"
   ]
  },
  {
   "cell_type": "code",
   "execution_count": 50,
   "metadata": {},
   "outputs": [],
   "source": [
    "def target(x):\n",
    "    if (x=='Significant_Damage_And_Fatalities'):\n",
    "        return 0\n",
    "    if (x=='Minor_Damage_And_Injuries'):\n",
    "        return 1\n",
    "    if (x=='Significant_Damage_And_Serious_Injuries'):\n",
    "        return 2\n",
    "    if (x=='Highly_Fatal_And_Damaging'):\n",
    "        return 3"
   ]
  },
  {
   "cell_type": "code",
   "execution_count": 51,
   "metadata": {},
   "outputs": [],
   "source": [
    "sub['Severity'] = sub.Severity.map({0:\"Significant_Damage_And_Fatalities\",1:\"Minor_Damage_And_Injuries\",2:\"Significant_Damage_And_Serious_Injuries\",3:\"Highly_Fatal_And_Damaging\"})"
   ]
  },
  {
   "cell_type": "code",
   "execution_count": 53,
   "metadata": {},
   "outputs": [
    {
     "data": {
      "text/plain": [
       "Significant_Damage_And_Serious_Injuries    953\n",
       "Minor_Damage_And_Injuries                  798\n",
       "Significant_Damage_And_Fatalities          719\n",
       "Highly_Fatal_And_Damaging                   30\n",
       "Name: Severity, dtype: int64"
      ]
     },
     "execution_count": 53,
     "metadata": {},
     "output_type": "execute_result"
    }
   ],
   "source": [
    "sub.Severity.value_counts()"
   ]
  },
  {
   "cell_type": "code",
   "execution_count": 54,
   "metadata": {},
   "outputs": [],
   "source": [
    "sub.to_csv(\"Submission.csv\",index=False)"
   ]
  },
  {
   "cell_type": "code",
   "execution_count": null,
   "metadata": {},
   "outputs": [],
   "source": []
  }
 ],
 "metadata": {
  "kernelspec": {
   "display_name": "Python 3",
   "language": "python",
   "name": "python3"
  },
  "language_info": {
   "codemirror_mode": {
    "name": "ipython",
    "version": 3
   },
   "file_extension": ".py",
   "mimetype": "text/x-python",
   "name": "python",
   "nbconvert_exporter": "python",
   "pygments_lexer": "ipython3",
   "version": "3.7.4"
  }
 },
 "nbformat": 4,
 "nbformat_minor": 2
}
