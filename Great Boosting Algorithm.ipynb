{
 "cells": [
  {
   "cell_type": "code",
   "execution_count": 1,
   "metadata": {},
   "outputs": [],
   "source": [
    "import numpy as np\n",
    "import matplotlib.pyplot as plt\n",
    "import seaborn as sns\n",
    "import pandas as pd\n",
    "%matplotlib inline\n",
    "\n",
    "from collections import Counter\n",
    "\n",
    "from sklearn.ensemble import RandomForestClassifier, AdaBoostClassifier, GradientBoostingClassifier, ExtraTreesClassifier, VotingClassifier\n",
    "from sklearn.discriminant_analysis import LinearDiscriminantAnalysis\n",
    "from sklearn.linear_model import LogisticRegression\n",
    "from sklearn.neighbors import KNeighborsClassifier\n",
    "from sklearn.tree import DecisionTreeClassifier\n",
    "from sklearn.neural_network import MLPClassifier\n",
    "from sklearn.svm import SVC\n",
    "from sklearn.model_selection import GridSearchCV, cross_val_score, StratifiedKFold, learning_curve\n",
    "\n",
    "sns.set(style='white', context='notebook', palette='deep')"
   ]
  },
  {
   "cell_type": "code",
   "execution_count": 2,
   "metadata": {},
   "outputs": [],
   "source": [
    "train_1 = pd.read_csv(\"train.csv\")\n",
    "test_1 = pd.read_csv(\"test.csv\")"
   ]
  },
  {
   "cell_type": "code",
   "execution_count": 3,
   "metadata": {},
   "outputs": [],
   "source": [
    "train = train_1.copy()\n",
    "test = test_1.copy()"
   ]
  },
  {
   "cell_type": "code",
   "execution_count": 4,
   "metadata": {},
   "outputs": [],
   "source": [
    "train['Severity'] = train['Severity'].map({\"Significant_Damage_And_Fatalities\":0,\"Minor_Damage_And_Injuries\":1,\"Significant_Damage_And_Serious_Injuries\":2,\"Highly_Fatal_And_Damaging\":3})"
   ]
  },
  {
   "cell_type": "code",
   "execution_count": 5,
   "metadata": {},
   "outputs": [],
   "source": [
    "Y_train = train['Severity']\n",
    "X_train = train.drop(['Severity'],axis=1)"
   ]
  },
  {
   "cell_type": "code",
   "execution_count": null,
   "metadata": {},
   "outputs": [],
   "source": []
  },
  {
   "cell_type": "code",
   "execution_count": null,
   "metadata": {},
   "outputs": [],
   "source": []
  },
  {
   "cell_type": "code",
   "execution_count": 6,
   "metadata": {},
   "outputs": [
    {
     "name": "stdout",
     "output_type": "stream",
     "text": [
      "Best alpha using built-in LassoCV: 0.162299\n",
      "Best score using built-in LassoCV: 0.283694\n",
      "Lasso picked 5 variables and eliminated the other 6 variables\n"
     ]
    },
    {
     "name": "stderr",
     "output_type": "stream",
     "text": [
      "/home/harsh/anaconda3/lib/python3.7/site-packages/sklearn/model_selection/_split.py:1978: FutureWarning: The default value of cv will change from 3 to 5 in version 0.22. Specify it explicitly to silence this warning.\n",
      "  warnings.warn(CV_WARNING, FutureWarning)\n"
     ]
    },
    {
     "data": {
      "text/plain": [
       "Text(0.5, 1.0, 'Feature importance using Lasso Model')"
      ]
     },
     "execution_count": 6,
     "metadata": {},
     "output_type": "execute_result"
    },
    {
     "data": {
      "image/png": "[encoded data removed]",
      "text/plain": [
       "<Figure size 576x576 with 1 Axes>"
      ]
     },
     "metadata": {
      "needs_background": "light"
     },
     "output_type": "display_data"
    }
   ],
   "source": [
    "from sklearn.linear_model import LassoCV\n",
    "reg = LassoCV()\n",
    "reg.fit(X_train,Y_train)\n",
    "print(\"Best alpha using built-in LassoCV: %f\" % reg.alpha_)\n",
    "print(\"Best score using built-in LassoCV: %f\" %reg.score(X_train,Y_train))\n",
    "coef = pd.Series(reg.coef_, index = X_train.columns)\n",
    "print(\"Lasso picked \" + str(sum(coef != 0)) + \" variables and eliminated the other \" +  str(sum(coef == 0)) + \" variables\")\n",
    "\n",
    "imp_coef = coef.sort_values()\n",
    "import matplotlib\n",
    "matplotlib.rcParams['figure.figsize'] = (8,8)\n",
    "imp_coef.plot(kind = \"barh\")\n",
    "plt.title(\"Feature importance using Lasso Model\")"
   ]
  },
  {
   "cell_type": "code",
   "execution_count": 7,
   "metadata": {
    "scrolled": true
   },
   "outputs": [
    {
     "name": "stdout",
     "output_type": "stream",
     "text": [
      "                      Specs         Score\n",
      "7             Max_Elevation  37871.221260\n",
      "0              Safety_Score   8552.477911\n",
      "10              Accident_ID   3180.018341\n",
      "3            Control_Metric   1017.270613\n",
      "6        Accident_Type_Code    658.840259\n",
      "9    Adverse_Weather_Metric    160.457298\n",
      "2   Total_Safety_Complaints     53.652473\n",
      "8                Violations     27.817094\n",
      "1     Days_Since_Inspection     23.452196\n",
      "4     Turbulence_In_gforces      6.544339\n"
     ]
    }
   ],
   "source": [
    "from sklearn.feature_selection import SelectKBest\n",
    "from sklearn.feature_selection import chi2\n",
    "\n",
    "bestfeatures = SelectKBest(score_func=chi2, k=4)\n",
    "fit = bestfeatures.fit(X_train,Y_train)\n",
    "\n",
    "dfscores = pd.DataFrame(fit.scores_)\n",
    "dfcolumns = pd.DataFrame(X_train.columns)\n",
    "\n",
    "\n",
    "#concat two dataframes for better visualization \n",
    "featureScores = pd.concat([dfcolumns,dfscores],axis=1)\n",
    "featureScores.columns = ['Specs','Score']  #naming the dataframe columns\n",
    "\n",
    "\n",
    "#concat two dataframes for better visualization \n",
    "featureScores = pd.concat([dfcolumns,dfscores],axis=1)\n",
    "featureScores.columns = ['Specs','Score']  #naming the dataframe columns\n",
    "\n",
    "print(featureScores.nlargest(10,'Score'))"
   ]
  },
  {
   "cell_type": "code",
   "execution_count": 8,
   "metadata": {},
   "outputs": [],
   "source": [
    "X_train.drop(['Max_Elevation','Accident_ID','Adverse_Weather_Metric','Violations','Accident_Type_Code','Cabin_Temperature','Turbulence_In_gforces','Total_Safety_Complaints'],axis=1,inplace=True)"
   ]
  },
  {
   "cell_type": "code",
   "execution_count": 10,
   "metadata": {},
   "outputs": [],
   "source": [
    "kfold = StratifiedKFold(n_splits=12)"
   ]
  },
  {
   "cell_type": "code",
   "execution_count": null,
   "metadata": {},
   "outputs": [],
   "source": []
  },
  {
   "cell_type": "code",
   "execution_count": 11,
   "metadata": {},
   "outputs": [
    {
     "name": "stdout",
     "output_type": "stream",
     "text": [
      "Fitting 12 folds for each of 576 candidates, totalling 6912 fits\n"
     ]
    },
    {
     "name": "stderr",
     "output_type": "stream",
     "text": [
      "[Parallel(n_jobs=-1)]: Using backend LokyBackend with 12 concurrent workers.\n",
      "[Parallel(n_jobs=-1)]: Done  26 tasks      | elapsed:   42.7s\n",
      "[Parallel(n_jobs=-1)]: Done 176 tasks      | elapsed:  4.7min\n",
      "[Parallel(n_jobs=-1)]: Done 426 tasks      | elapsed: 11.7min\n",
      "[Parallel(n_jobs=-1)]: Done 776 tasks      | elapsed: 21.0min\n",
      "[Parallel(n_jobs=-1)]: Done 1226 tasks      | elapsed: 34.5min\n",
      "[Parallel(n_jobs=-1)]: Done 1776 tasks      | elapsed: 51.6min\n",
      "[Parallel(n_jobs=-1)]: Done 2426 tasks      | elapsed: 72.7min\n",
      "[Parallel(n_jobs=-1)]: Done 3176 tasks      | elapsed: 102.9min\n",
      "[Parallel(n_jobs=-1)]: Done 4026 tasks      | elapsed: 127.4min\n",
      "[Parallel(n_jobs=-1)]: Done 4976 tasks      | elapsed: 149.3min\n",
      "[Parallel(n_jobs=-1)]: Done 6026 tasks      | elapsed: 175.7min\n",
      "[Parallel(n_jobs=-1)]: Done 6912 out of 6912 | elapsed: 200.8min finished\n"
     ]
    },
    {
     "data": {
      "text/plain": [
       "0.9761"
      ]
     },
     "execution_count": 11,
     "metadata": {},
     "output_type": "execute_result"
    }
   ],
   "source": [
    "GBC = GradientBoostingClassifier()\n",
    "gb_param_grid = {'max_depth':[7,10,None],\n",
    "              'n_estimators':[300,500,700],\n",
    "              'max_features':[1,2],\n",
    "               'criterion':['friedman_mse'],\n",
    "               'validation_fraction':[0.2,0.3],\n",
    "               'min_samples_leaf':[1,3,4,7],\n",
    "                'learning_rate':[0.1,0.2],\n",
    "                'warm_start':[True,False],\n",
    "                'loss':['deviance'],\n",
    "                'min_weight_fraction_leaf':[0],   \n",
    "              }\n",
    "\n",
    "gsGBC = GridSearchCV(GBC,param_grid = gb_param_grid, cv=kfold, scoring=\"accuracy\", n_jobs= -1, verbose = 1)\n",
    "\n",
    "gsGBC.fit(X_train,Y_train)\n",
    "\n",
    "GBC_best = gsGBC.best_estimator_\n",
    "\n",
    "\n",
    "# Best score\n",
    "gsGBC.best_score_"
   ]
  },
  {
   "cell_type": "code",
   "execution_count": 12,
   "metadata": {},
   "outputs": [],
   "source": [
    "# 'max_depth':[1,3,5,10,None],\n",
    "#               'n_estimators':[10,30,40,50,70,100,150,200,300,500],\n",
    "#               'max_features':[1,2,3],\n",
    "#                'criterion':['friedman_mse'],\n",
    "#                'validation_fraction':[0.1,0.2,0.3,0.4],\n",
    "#                'min_samples_leaf':[1,3,4],\n",
    "#                 'learning_rate':[0.1,0.2,0.5,1,1.1],\n",
    "#                 'warm_start':[True,False],\n",
    "#                 'loss':['deviance'],\n",
    "#            'min_weight_fraction_leaf':[0,0.1,0.2,0.3,0.4]"
   ]
  },
  {
   "cell_type": "code",
   "execution_count": 13,
   "metadata": {
    "scrolled": true
   },
   "outputs": [
    {
     "data": {
      "text/plain": [
       "{'criterion': 'friedman_mse',\n",
       " 'learning_rate': 0.2,\n",
       " 'loss': 'deviance',\n",
       " 'max_depth': 7,\n",
       " 'max_features': 2,\n",
       " 'min_samples_leaf': 3,\n",
       " 'min_weight_fraction_leaf': 0,\n",
       " 'n_estimators': 700,\n",
       " 'validation_fraction': 0.2,\n",
       " 'warm_start': True}"
      ]
     },
     "execution_count": 13,
     "metadata": {},
     "output_type": "execute_result"
    }
   ],
   "source": [
    "gsGBC.best_params_"
   ]
  },
  {
   "cell_type": "code",
   "execution_count": 14,
   "metadata": {},
   "outputs": [],
   "source": [
    "# Grid Search Gradient Boost Algo\n",
    "# 'criterion': 'friedman_mse',\n",
    "#  'learning_rate': 0.2,\n",
    "#  'loss': 'deviance',\n",
    "#  'max_depth': 7,\n",
    "#  'max_features': 2,\n",
    "#  'min_samples_leaf': 1,\n",
    "#  'min_weight_fraction_leaf': 0,\n",
    "#  'n_estimators': 500,\n",
    "#  'validation_fraction': 0.3,\n",
    "#  'warm_start': True"
   ]
  },
  {
   "cell_type": "code",
   "execution_count": 15,
   "metadata": {},
   "outputs": [
    {
     "data": {
      "text/plain": [
       "GradientBoostingClassifier(criterion='friedman_mse', init=None,\n",
       "                           learning_rate=0.2, loss='deviance', max_depth=7,\n",
       "                           max_features=2, max_leaf_nodes=None,\n",
       "                           min_impurity_decrease=0.0, min_impurity_split=None,\n",
       "                           min_samples_leaf=3, min_samples_split=2,\n",
       "                           min_weight_fraction_leaf=0, n_estimators=700,\n",
       "                           n_iter_no_change=None, presort='auto',\n",
       "                           random_state=None, subsample=1.0, tol=0.0001,\n",
       "                           validation_fraction=0.2, verbose=0, warm_start=True)"
      ]
     },
     "execution_count": 15,
     "metadata": {},
     "output_type": "execute_result"
    }
   ],
   "source": [
    "GBC_best"
   ]
  },
  {
   "cell_type": "code",
   "execution_count": 16,
   "metadata": {},
   "outputs": [
    {
     "data": {
      "text/plain": [
       "GradientBoostingClassifier(criterion='friedman_mse', init=None,\n",
       "                           learning_rate=0.2, loss='deviance', max_depth=7,\n",
       "                           max_features=2, max_leaf_nodes=None,\n",
       "                           min_impurity_decrease=0.0, min_impurity_split=None,\n",
       "                           min_samples_leaf=3, min_samples_split=2,\n",
       "                           min_weight_fraction_leaf=0, n_estimators=700,\n",
       "                           n_iter_no_change=None, presort='auto',\n",
       "                           random_state=None, subsample=1.0, tol=0.0001,\n",
       "                           validation_fraction=0.2, verbose=0, warm_start=True)"
      ]
     },
     "execution_count": 16,
     "metadata": {},
     "output_type": "execute_result"
    }
   ],
   "source": [
    "gsGBC.best_estimator_"
   ]
  },
  {
   "cell_type": "code",
   "execution_count": 17,
   "metadata": {},
   "outputs": [],
   "source": [
    "# from sklearn.model_selection import RandomizedSearchCV\n",
    "\n",
    "# from scipy.stats import randint\n",
    "\n",
    "# est =GradientBoostingClassifier()\n",
    "# p_distr={'max_depth':[7,None],\n",
    "#               'n_estimators':[200,300,500],\n",
    "#               'max_features':[1,2,3],\n",
    "#              'min_samples_split':[10,20,40,60],\n",
    "#                'criterion':['friedman_mse'],\n",
    "#                'validation_fraction':[0.1,0.2,0.3,0.4],\n",
    "#          'subsample':[0.85,0.9,0.95,1],\n",
    "#                'min_samples_leaf':[1,3,7,9],\n",
    "#                'verbose':randint(1,5),\n",
    "#                 'learning_rate':[0.1,0.2,0.5,1],\n",
    "#                 'warm_start':[True,False],\n",
    "#                 'loss':['deviance'],\n",
    "                \n",
    "#            'min_weight_fraction_leaf':[0,0.1,0.2,0.3,0.4],\n",
    "               \n",
    "#               }\n",
    "# GBC = RandomizedSearchCV(est, param_distributions=p_distr,n_jobs=-1, n_iter=40, cv=10,verbose=1)\n",
    "   \n",
    "# GBC.fit(X_train,Y_train)"
   ]
  },
  {
   "cell_type": "code",
   "execution_count": 18,
   "metadata": {},
   "outputs": [],
   "source": [
    "# GBC.best_params_"
   ]
  },
  {
   "cell_type": "code",
   "execution_count": 19,
   "metadata": {},
   "outputs": [],
   "source": [
    "# GBC.best_score_"
   ]
  },
  {
   "cell_type": "code",
   "execution_count": 37,
   "metadata": {
    "scrolled": false
   },
   "outputs": [
    {
     "data": {
      "text/plain": [
       "GradientBoostingClassifier(criterion='friedman_mse', init=None,\n",
       "                           learning_rate=0.2, loss='deviance', max_depth=7,\n",
       "                           max_features=2, max_leaf_nodes=None,\n",
       "                           min_impurity_decrease=0.0, min_impurity_split=None,\n",
       "                           min_samples_leaf=3, min_samples_split=2,\n",
       "                           min_weight_fraction_leaf=0, n_estimators=700,\n",
       "                           n_iter_no_change=None, presort='auto',\n",
       "                           random_state=None, subsample=1.0, tol=0.0001,\n",
       "                           validation_fraction=0.2, verbose=0, warm_start=True)"
      ]
     },
     "execution_count": 37,
     "metadata": {},
     "output_type": "execute_result"
    }
   ],
   "source": [
    "gbc =GradientBoostingClassifier(criterion='friedman_mse', init=None,\n",
    "                           learning_rate=0.2, loss='deviance', max_depth=7,\n",
    "                           max_features=2, max_leaf_nodes=None,\n",
    "                           min_impurity_decrease=0.0, min_impurity_split=None,\n",
    "                           min_samples_leaf=3, min_samples_split=2,\n",
    "                           min_weight_fraction_leaf=0, n_estimators=700,\n",
    "                           n_iter_no_change=None, presort='auto',\n",
    "                           random_state=None, subsample=1.0, tol=0.0001,\n",
    "                           validation_fraction=0.2, verbose=0, warm_start=True)\n",
    "gbc.fit(X_train,Y_train)"
   ]
  },
  {
   "cell_type": "code",
   "execution_count": 21,
   "metadata": {},
   "outputs": [],
   "source": [
    "# criterion= 'friedman_mse',\n",
    "#  learning_rate= 0.1,\n",
    "#  loss= 'deviance',\n",
    "#  max_depth= 7,\n",
    "#  max_features= 2,\n",
    "#  min_samples_leaf= 7,\n",
    "#  min_samples_split= 40,\n",
    "#  min_weight_fraction_leaf= 0,\n",
    "#  n_estimators= 500,\n",
    "#  subsample= 0.95,\n",
    "#  validation_fraction= 0.2,\n",
    "#  verbose= 3,\n",
    "#  warm_start = True)"
   ]
  },
  {
   "cell_type": "code",
   "execution_count": 22,
   "metadata": {},
   "outputs": [],
   "source": [
    "# 87.64 %\n",
    "# criterion= 'friedman_mse',\n",
    "#  learning_rate= 0.2,\n",
    "#  loss= 'deviance',\n",
    "#  max_depth= 7,\n",
    "\n",
    "#  max_features= 2,\n",
    "#  min_samples_leaf= 1,\n",
    "#  min_samples_split= 40,\n",
    "#  min_weight_fraction_leaf= 0,\n",
    "#  n_estimators= 500,\n",
    "#  subsample= 0.95,\n",
    "#  validation_fraction= 0.2,\n",
    "#  verbose= 3,\n",
    "#  warm_start = True)"
   ]
  },
  {
   "cell_type": "code",
   "execution_count": 23,
   "metadata": {},
   "outputs": [],
   "source": [
    "# criterion= 'friedman_mse',\n",
    "#  learning_rate= 0.2,\n",
    "#  loss= 'deviance',\n",
    "#  max_depth= 7,\n",
    "#  max_features= 2,\n",
    "#  min_samples_leaf= 1,\n",
    "#  min_samples_split= 40,\n",
    "#  min_weight_fraction_leaf= 0,\n",
    "#  n_estimators= 5000,\n",
    "#  subsample= 0.95,\n",
    "#  validation_fraction= 0.2,\n",
    "#  verbose= 3,\n",
    "#  warm_start= True)"
   ]
  },
  {
   "cell_type": "code",
   "execution_count": 38,
   "metadata": {},
   "outputs": [],
   "source": [
    "from sklearn.model_selection import train_test_split\n",
    "x_train,x_test,y_train,y_test = train_test_split(X_train.values,Y_train.values)"
   ]
  },
  {
   "cell_type": "code",
   "execution_count": 39,
   "metadata": {
    "scrolled": true
   },
   "outputs": [],
   "source": [
    "Y_pred = gbc.predict(x_test)"
   ]
  },
  {
   "cell_type": "code",
   "execution_count": 40,
   "metadata": {
    "scrolled": true
   },
   "outputs": [
    {
     "name": "stdout",
     "output_type": "stream",
     "text": [
      "Acc : 1.0\n"
     ]
    }
   ],
   "source": [
    "from sklearn import metrics \n",
    "print(\"Acc :\",metrics.accuracy_score(y_test,Y_pred))"
   ]
  },
  {
   "cell_type": "code",
   "execution_count": 41,
   "metadata": {
    "scrolled": true
   },
   "outputs": [],
   "source": [
    "# 87.56 %\n",
    "\n",
    "# criterion= 'friedman_mse',\n",
    "#  learning_rate= 0.2,\n",
    "#  loss= 'deviance',\n",
    "#  max_depth= 7,\n",
    "#  max_features= 2,\n",
    "#  min_samples_leaf= 1,\n",
    "#  min_samples_split= 40,\n",
    "#  min_weight_fraction_leaf= 0,\n",
    "#  n_estimators= 150,\n",
    "#  subsample= 0.95,\n",
    "#  validation_fraction= 0.2,\n",
    "#  verbose= 3,\n",
    "#  warm_start= False)"
   ]
  },
  {
   "cell_type": "code",
   "execution_count": null,
   "metadata": {},
   "outputs": [],
   "source": []
  },
  {
   "cell_type": "code",
   "execution_count": null,
   "metadata": {},
   "outputs": [],
   "source": []
  },
  {
   "cell_type": "code",
   "execution_count": null,
   "metadata": {},
   "outputs": [],
   "source": []
  },
  {
   "cell_type": "code",
   "execution_count": null,
   "metadata": {},
   "outputs": [],
   "source": []
  },
  {
   "cell_type": "code",
   "execution_count": null,
   "metadata": {},
   "outputs": [],
   "source": []
  },
  {
   "cell_type": "code",
   "execution_count": null,
   "metadata": {},
   "outputs": [],
   "source": []
  },
  {
   "cell_type": "code",
   "execution_count": 28,
   "metadata": {},
   "outputs": [],
   "source": [
    "test.drop(['Max_Elevation','Adverse_Weather_Metric','Violations','Accident_Type_Code','Cabin_Temperature','Turbulence_In_gforces','Total_Safety_Complaints','Accident_ID'],axis=1,inplace=True)"
   ]
  },
  {
   "cell_type": "code",
   "execution_count": 42,
   "metadata": {},
   "outputs": [],
   "source": [
    "x=test.values"
   ]
  },
  {
   "cell_type": "code",
   "execution_count": 43,
   "metadata": {},
   "outputs": [],
   "source": [
    "y_pred = gbc.predict(x)"
   ]
  },
  {
   "cell_type": "code",
   "execution_count": 44,
   "metadata": {},
   "outputs": [],
   "source": [
    "sub = test_1['Accident_ID']"
   ]
  },
  {
   "cell_type": "code",
   "execution_count": 45,
   "metadata": {},
   "outputs": [],
   "source": [
    "sub = pd.DataFrame(sub)"
   ]
  },
  {
   "cell_type": "code",
   "execution_count": 46,
   "metadata": {},
   "outputs": [],
   "source": [
    "sub['Severity'] = y_pred"
   ]
  },
  {
   "cell_type": "code",
   "execution_count": 47,
   "metadata": {},
   "outputs": [],
   "source": [
    "sub['Severity'] = sub['Severity'].map({0:\"Significant_Damage_And_Fatalities\",1:\"Minor_Damage_And_Injuries\",2:\"Significant_Damage_And_Serious_Injuries\",3:\"Highly_Fatal_And_Damaging\"})"
   ]
  },
  {
   "cell_type": "code",
   "execution_count": 48,
   "metadata": {},
   "outputs": [],
   "source": [
    "sub.to_csv(\"Gradient_boost_last_final_.csv\",index=False)"
   ]
  },
  {
   "cell_type": "code",
   "execution_count": 49,
   "metadata": {},
   "outputs": [
    {
     "data": {
      "text/html": [
       "<div>\n",
       "<style scoped>\n",
       "    .dataframe tbody tr th:only-of-type {\n",
       "        vertical-align: middle;\n",
       "    }\n",
       "\n",
       "    .dataframe tbody tr th {\n",
       "        vertical-align: top;\n",
       "    }\n",
       "\n",
       "    .dataframe thead th {\n",
       "        text-align: right;\n",
       "    }\n",
       "</style>\n",
       "<table border=\"1\" class=\"dataframe\">\n",
       "  <thead>\n",
       "    <tr style=\"text-align: right;\">\n",
       "      <th></th>\n",
       "      <th>Accident_ID</th>\n",
       "      <th>Severity</th>\n",
       "    </tr>\n",
       "  </thead>\n",
       "  <tbody>\n",
       "    <tr>\n",
       "      <td>0</td>\n",
       "      <td>1</td>\n",
       "      <td>Highly_Fatal_And_Damaging</td>\n",
       "    </tr>\n",
       "    <tr>\n",
       "      <td>1</td>\n",
       "      <td>10</td>\n",
       "      <td>Significant_Damage_And_Fatalities</td>\n",
       "    </tr>\n",
       "    <tr>\n",
       "      <td>2</td>\n",
       "      <td>14</td>\n",
       "      <td>Significant_Damage_And_Serious_Injuries</td>\n",
       "    </tr>\n",
       "    <tr>\n",
       "      <td>3</td>\n",
       "      <td>17</td>\n",
       "      <td>Minor_Damage_And_Injuries</td>\n",
       "    </tr>\n",
       "    <tr>\n",
       "      <td>4</td>\n",
       "      <td>21</td>\n",
       "      <td>Significant_Damage_And_Fatalities</td>\n",
       "    </tr>\n",
       "  </tbody>\n",
       "</table>\n",
       "</div>"
      ],
      "text/plain": [
       "   Accident_ID                                 Severity\n",
       "0            1                Highly_Fatal_And_Damaging\n",
       "1           10        Significant_Damage_And_Fatalities\n",
       "2           14  Significant_Damage_And_Serious_Injuries\n",
       "3           17                Minor_Damage_And_Injuries\n",
       "4           21        Significant_Damage_And_Fatalities"
      ]
     },
     "execution_count": 49,
     "metadata": {},
     "output_type": "execute_result"
    }
   ],
   "source": [
    "sub.head()"
   ]
  },
  {
   "cell_type": "code",
   "execution_count": null,
   "metadata": {},
   "outputs": [],
   "source": []
  },
  {
   "cell_type": "code",
   "execution_count": null,
   "metadata": {},
   "outputs": [],
   "source": []
  }
 ],
 "metadata": {
  "kernelspec": {
   "display_name": "Python 3",
   "language": "python",
   "name": "python3"
  },
  "language_info": {
   "codemirror_mode": {
    "name": "ipython",
    "version": 3
   },
   "file_extension": ".py",
   "mimetype": "text/x-python",
   "name": "python",
   "nbconvert_exporter": "python",
   "pygments_lexer": "ipython3",
   "version": "3.7.4"
  }
 },
 "nbformat": 4,
 "nbformat_minor": 2
}
